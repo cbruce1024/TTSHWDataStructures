{
 "cells": [
  {
   "cell_type": "markdown",
   "id": "8caa8fd5-fbf1-4c8d-89d4-e89bbb693d33",
   "metadata": {},
   "source": [
    "Write a function solve_quadratic, that returns both solutions of a generic quadratic as a pair (2-tuple) when the coefficients are given as parameters."
   ]
  },
  {
   "cell_type": "code",
   "execution_count": 10,
   "id": "21f2e40e-a492-46c0-b84b-28f379b9d61d",
   "metadata": {},
   "outputs": [],
   "source": [
    "import math"
   ]
  },
  {
   "cell_type": "code",
   "execution_count": 12,
   "id": "aebe812b",
   "metadata": {},
   "outputs": [
    {
     "name": "stdin",
     "output_type": "stream",
     "text": [
      "Pick your first number:  1\n"
     ]
    }
   ],
   "source": [
    "num_1 = input(\"Pick your first number: \")"
   ]
  },
  {
   "cell_type": "code",
   "execution_count": 3,
   "id": "d39c0900",
   "metadata": {},
   "outputs": [
    {
     "name": "stdin",
     "output_type": "stream",
     "text": [
      "Pick your second number:  3\n"
     ]
    }
   ],
   "source": [
    "num_2 = input(\"Pick your second number: \")"
   ]
  },
  {
   "cell_type": "code",
   "execution_count": 4,
   "id": "d83149aa",
   "metadata": {},
   "outputs": [
    {
     "name": "stdin",
     "output_type": "stream",
     "text": [
      "Pick your third number:  4\n"
     ]
    }
   ],
   "source": [
    "num_3 = input(\"Pick your third number: \")"
   ]
  },
  {
   "cell_type": "code",
   "execution_count": 13,
   "id": "36e2616a-7485-4ec7-a662-de13dbf22eab",
   "metadata": {},
   "outputs": [],
   "source": [
    "def solve_quadratic(num_1, num_2, num_3):\n",
    "    discr = num_2**2 - (4*num_1*num_3)\n",
    "    if discr > 0:\n",
    "        root1 = (-num_2 + math.sqrt(discriminant)) / (2*num_1)\n",
    "        root2 = (-num_2 - math.sqrt(discriminant)) / (2*num_1)\n",
    "        return root1, root2\n",
    "    elif discr == 0:\n",
    "        root = -num_2 / (2*num_1)\n",
    "        return root,\n",
    "    else:\n",
    "        real_part = -num_2 / (2*a)\n",
    "        imaginary_part = math.sqrt(abs(discriminant)) / (2*num_1)\n",
    "        return complex(real_part, imaginary_part), complex(real_part, -imaginary_part)\n",
    "    "
   ]
  },
  {
   "cell_type": "markdown",
   "id": "1655f08f-75aa-481c-8a9b-4b7815e63789",
   "metadata": {},
   "source": [
    "Get a space-separated list of integers from the user, create a tuple of those integers. Then compute and print the result of hash(tuple). "
   ]
  },
  {
   "cell_type": "code",
   "execution_count": 17,
   "id": "115aca2e-a550-4a08-beb8-ce0e8db122f8",
   "metadata": {},
   "outputs": [
    {
     "name": "stdin",
     "output_type": "stream",
     "text": [
      "Enter 4 numbers separated by a single space:  1 2 3 4 \n"
     ]
    }
   ],
   "source": [
    "user_numbers = input(\"Enter 4 numbers separated by a single space: \")"
   ]
  },
  {
   "cell_type": "code",
   "execution_count": 20,
   "id": "f83434e9-2a5e-41e4-916d-172558c826a2",
   "metadata": {},
   "outputs": [
    {
     "name": "stdout",
     "output_type": "stream",
     "text": [
      "5522367683895470014\n"
     ]
    }
   ],
   "source": [
    "num_list = list(user_numbers)\n",
    "num_tuple = tuple(num_list)\n",
    "num_hash = hash(num_tuple)\n",
    "print(num_hash)"
   ]
  },
  {
   "cell_type": "markdown",
   "id": "ac70a1a6-0c84-44d2-84a5-1309fb2bf7e2",
   "metadata": {},
   "source": [
    "Take the following two lists. Create a third list by picking a odd-index elements from the first list and even-index elements from the second."
   ]
  },
  {
   "cell_type": "code",
   "execution_count": 23,
   "id": "19d30c2f-37c9-491d-852d-3e50fee7b365",
   "metadata": {},
   "outputs": [],
   "source": [
    "listOne = [3, 6, 9, 12, 15, 18, 21]\n",
    "listTwo = [4, 8, 12, 16, 20, 24, 28]\n",
    "\n",
    "listThree = []"
   ]
  },
  {
   "cell_type": "code",
   "execution_count": 24,
   "id": "6a5c1ff7-2979-426e-904d-35ec1cdce3b8",
   "metadata": {},
   "outputs": [
    {
     "name": "stdout",
     "output_type": "stream",
     "text": [
      "[4, 6, 12, 12, 20, 18, 28]\n"
     ]
    }
   ],
   "source": [
    "for num in range(len(listOne)):\n",
    "    if num % 2 ==1 and num < len(listOne):\n",
    "        listThree.append(listOne[num])\n",
    "\n",
    "    if num % 2 ==0 and num < len(listTwo):\n",
    "        listThree.append(listTwo[num])\n",
    "\n",
    "print(listThree)\n",
    "        "
   ]
  },
  {
   "cell_type": "markdown",
   "id": "c374e992-edef-42cd-9bbc-92e1df20a4dd",
   "metadata": {},
   "source": [
    "Take the following list. Slice it into three equal chunks and reverse each list."
   ]
  },
  {
   "cell_type": "code",
   "execution_count": 31,
   "id": "32a69135-da85-4d92-9278-065f9f8d6573",
   "metadata": {},
   "outputs": [],
   "source": [
    "sampleList = [11, 45, 8, 23, 14, 12, 78, 45, 89]"
   ]
  },
  {
   "cell_type": "code",
   "execution_count": 46,
   "id": "8bc04f1d-fcc1-400b-890d-e26bcb80eabf",
   "metadata": {},
   "outputs": [
    {
     "name": "stdout",
     "output_type": "stream",
     "text": [
      "[11, 45, 8]\n",
      "[23, 14, 12]\n",
      "[78, 45, 89]\n"
     ]
    }
   ],
   "source": [
    "list_one = sampleList[0:3]\n",
    "list_two = sampleList[3:6]\n",
    "list_three = sampleList[6:9]\n",
    "\n",
    "print(list_one)\n",
    "print(list_two)\n",
    "print(list_three)"
   ]
  },
  {
   "cell_type": "code",
   "execution_count": 48,
   "id": "af48dda6-b10c-44c0-9822-3b1d5973b86b",
   "metadata": {},
   "outputs": [
    {
     "name": "stdout",
     "output_type": "stream",
     "text": [
      "[8, 45, 11]\n",
      "[12, 14, 23]\n",
      "[89, 45, 78]\n"
     ]
    }
   ],
   "source": [
    "rev_list_one = list_one[::-1]\n",
    "rev_list_two = list_two[::-1]\n",
    "rev_list_three = list_three[::-1]\n",
    "\n",
    "print(rev_list_one)\n",
    "print(rev_list_two)\n",
    "print(rev_list_three)"
   ]
  },
  {
   "cell_type": "markdown",
   "id": "578b363e-9d4d-430b-853c-447b7adbe86b",
   "metadata": {},
   "source": [
    "Iterate through a given list and check if a given element already exists in a dictionary as a key’s value. If not, delete it from the list."
   ]
  },
  {
   "cell_type": "code",
   "execution_count": 57,
   "id": "17cc766e-b90a-494c-a24a-12670c0b610e",
   "metadata": {},
   "outputs": [],
   "source": [
    "rollNumber = [47, 64, 69, 37, 76, 83, 95, 97]\n",
    "sampleDict ={'Zach':47, 'Emma':69, 'Kelly':76, 'Jason':97}"
   ]
  },
  {
   "cell_type": "code",
   "execution_count": 58,
   "id": "12806a18-aa04-45f7-a3d2-4ff5c3774db9",
   "metadata": {},
   "outputs": [],
   "source": [
    "new_rollNumber = []"
   ]
  },
  {
   "cell_type": "code",
   "execution_count": 59,
   "id": "a1843424-9a3f-42b2-a984-dff1a69f87a1",
   "metadata": {},
   "outputs": [],
   "source": [
    "for num in rollNumber:\n",
    "    if num in sampleDict.values():\n",
    "        new_rollNumber.append(num)\n"
   ]
  },
  {
   "cell_type": "code",
   "execution_count": 60,
   "id": "ddc94456-eee5-470f-829e-d9916afeef49",
   "metadata": {},
   "outputs": [
    {
     "name": "stdout",
     "output_type": "stream",
     "text": [
      "[47, 69, 76, 97]\n"
     ]
    }
   ],
   "source": [
    "rollNumber = new_rollNumber\n",
    "print(rollNumber)"
   ]
  },
  {
   "cell_type": "code",
   "execution_count": null,
   "id": "6886714b-ec81-4618-9043-bc1c1de65f69",
   "metadata": {},
   "outputs": [],
   "source": []
  }
 ],
 "metadata": {
  "kernelspec": {
   "display_name": "Python 3 (ipykernel)",
   "language": "python",
   "name": "python3"
  },
  "language_info": {
   "codemirror_mode": {
    "name": "ipython",
    "version": 3
   },
   "file_extension": ".py",
   "mimetype": "text/x-python",
   "name": "python",
   "nbconvert_exporter": "python",
   "pygments_lexer": "ipython3",
   "version": "3.8.16"
  }
 },
 "nbformat": 4,
 "nbformat_minor": 5
}
